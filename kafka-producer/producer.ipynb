{
 "cells": [
  {
   "cell_type": "code",
   "execution_count": 2,
   "id": "94bce804",
   "metadata": {},
   "outputs": [],
   "source": [
    "from kafka import KafkaProducer, KafkaConsumer\n",
    "from kafka.errors import KafkaError\n",
    "import json\n",
    "\n",
    "# Define Kafka producer\n",
    "producer = KafkaProducer(\n",
    "    bootstrap_servers=['localhost:9092'],\n",
    "    value_serializer=lambda v: json.dumps(v).encode('utf-8')\n",
    ")\n",
    "\n",
    "# Produce a message\n",
    "future = producer.send('test-topic', {'key': 'fahmi azizz'})\n",
    "try:\n",
    "    record_metadata = future.get(timeout=10)\n",
    "except KafkaError as e:\n",
    "    print(f\"Error sending message: {e}\")\n",
    "finally:\n",
    "    producer.close()"
   ]
  },
  {
   "cell_type": "code",
   "execution_count": 22,
   "id": "50fb9203",
   "metadata": {},
   "outputs": [
    {
     "data": {
      "text/plain": [
       "<_csv.reader at 0x25d255556c0>"
      ]
     },
     "execution_count": 22,
     "metadata": {},
     "output_type": "execute_result"
    }
   ],
   "source": [
    "import csv\n",
    "\n",
    "file = open('sample_data/rides.csv')\n",
    "\n",
    "csvreader = csv.reader(file)\n",
    "csvreader"
   ]
  },
  {
   "cell_type": "code",
   "execution_count": null,
   "id": "32302ec3",
   "metadata": {},
   "outputs": [],
   "source": []
  },
  {
   "cell_type": "code",
   "execution_count": 36,
   "id": "68e83f0b",
   "metadata": {},
   "outputs": [],
   "source": [
    "from kafka import KafkaProducer\n",
    "from kafka.errors import KafkaError\n",
    "import json\n",
    "import time # Import time for a small delay\n",
    "\n",
    "# Define Kafka producer\n",
    "producer = KafkaProducer(\n",
    "    bootstrap_servers=['localhost:9092'],\n",
    "    value_serializer=lambda v: json.dumps(v).encode('utf-8')\n",
    ")\n",
    "\n",
    "# Path to your JSON data file\n",
    "json_file_path = \"sample_data/data.json\" \n",
    "with open(json_file_path, 'r') as f:\n",
    "        data = json.load(f)\n",
    "\n",
    "if isinstance(data, list):\n",
    "    for record in data:\n",
    "        # Produce each record as a separate message\n",
    "        future = producer.send('test-topic', value=record)\n",
    "        time.sleep(2)\n",
    "else:\n",
    "    print(\"Error: The JSON file does not contain a list of objects.\")"
   ]
  },
  {
   "cell_type": "code",
   "execution_count": null,
   "id": "e1c0686f",
   "metadata": {},
   "outputs": [
    {
     "name": "stdout",
     "output_type": "stream",
     "text": [
      "Starting Kafka producer with continuous monitoring...\n",
      "Press Ctrl+C to stop\n",
      "File sample_data/data.json not found. Waiting...\n",
      "File sample_data/data.json not found. Waiting...\n",
      "File sample_data/data.json not found. Waiting...\n",
      "File sample_data/data.json not found. Waiting...\n",
      "\n",
      "Stopping producer...\n",
      "Producer closed.\n"
     ]
    }
   ],
   "source": [
    "from kafka import KafkaProducer\n",
    "from kafka.errors import KafkaError\n",
    "import json\n",
    "import time\n",
    "import os\n",
    "from datetime import datetime\n",
    "\n",
    "# Define Kafka producer\n",
    "producer = KafkaProducer(\n",
    "    bootstrap_servers=os.getenv(\"KAFKA_BROKER\"),\n",
    "    value_serializer=lambda v: json.dumps(v).encode('utf-8')\n",
    ")\n",
    "\n",
    "# Path to your JSON data file\n",
    "json_file_path = \"C:/Users/User/Fahmi/seven_retail/sample_data/data.json\"\n",
    "\n",
    "# Track processed records to avoid duplicates\n",
    "processed_records = set()\n",
    "last_file_size = 0\n",
    "\n",
    "def load_and_send_new_data():\n",
    "    global last_file_size, processed_records\n",
    "    \n",
    "    try:\n",
    "        # Check if file exists\n",
    "        if not os.path.exists(json_file_path):\n",
    "            print(f\"File {json_file_path} not found. Waiting...\")\n",
    "            return\n",
    "        \n",
    "        # Check if file size changed (indicates new data)\n",
    "        current_file_size = os.path.getsize(json_file_path)\n",
    "        if current_file_size == last_file_size:\n",
    "            return  # No changes, skip processing\n",
    "        \n",
    "        print(f\"[{datetime.now()}] File size changed. Checking for new data...\")\n",
    "        last_file_size = current_file_size\n",
    "        \n",
    "        with open(json_file_path, 'r') as f:\n",
    "            data = json.load(f)\n",
    "        \n",
    "        if isinstance(data, list):\n",
    "            new_records_count = 0\n",
    "            for i, record in enumerate(data):\n",
    "                # Create a unique identifier for each record\n",
    "                record_id = hash(json.dumps(record, sort_keys=True))\n",
    "                \n",
    "                # Only send if we haven't processed this record before\n",
    "                if record_id not in processed_records:\n",
    "                    try:\n",
    "                        future = producer.send(os.getenv(\"TOPIC_NAME\"), value=record)\n",
    "                        processed_records.add(record_id)\n",
    "                        new_records_count += 1\n",
    "                        print(f\"Sent record {i+1}: {record}\")\n",
    "                        \n",
    "                        time.sleep(5)\n",
    "                        \n",
    "                    except Exception as e:\n",
    "                        print(f\"Error sending record {i+1}: {e}\")\n",
    "            \n",
    "            if new_records_count > 0:\n",
    "                print(f\"Sent {new_records_count} new records to Kafka topic 'test-topic'\")\n",
    "            \n",
    "        else:\n",
    "            print(\"Error: The JSON file does not contain a list of objects.\")\n",
    "            \n",
    "    except json.JSONDecodeError as e:\n",
    "        print(f\"Error parsing JSON file: {e}\")\n",
    "    except Exception as e:\n",
    "        print(f\"Error processing file: {e}\")\n",
    "\n",
    "def main():\n",
    "    print(\"Starting Kafka producer with continuous monitoring...\")\n",
    "    print(\"Press Ctrl+C to stop\")\n",
    "    \n",
    "    try:\n",
    "        while True:\n",
    "            load_and_send_new_data()\n",
    "            # Wait 5 seconds before checking again\n",
    "            time.sleep(5)\n",
    "            \n",
    "    except KeyboardInterrupt:\n",
    "        print(\"\\nStopping producer...\")\n",
    "    except Exception as e:\n",
    "        print(f\"Unexpected error: {e}\")\n",
    "    finally:\n",
    "        producer.close()\n",
    "        print(\"Producer closed.\")\n",
    "\n",
    "if __name__ == \"__main__\":\n",
    "    main()"
   ]
  },
  {
   "cell_type": "code",
   "execution_count": 2,
   "id": "e5221029",
   "metadata": {},
   "outputs": [],
   "source": [
    "producer.flush()"
   ]
  },
  {
   "cell_type": "code",
   "execution_count": null,
   "id": "44b3c93a",
   "metadata": {},
   "outputs": [],
   "source": []
  }
 ],
 "metadata": {
  "kernelspec": {
   "display_name": "Python 3",
   "language": "python",
   "name": "python3"
  },
  "language_info": {
   "codemirror_mode": {
    "name": "ipython",
    "version": 3
   },
   "file_extension": ".py",
   "mimetype": "text/x-python",
   "name": "python",
   "nbconvert_exporter": "python",
   "pygments_lexer": "ipython3",
   "version": "3.11.9"
  }
 },
 "nbformat": 4,
 "nbformat_minor": 5
}
